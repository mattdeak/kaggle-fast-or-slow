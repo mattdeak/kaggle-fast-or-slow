{
 "cells": [
  {
   "cell_type": "code",
   "execution_count": 92,
   "id": "7394c95f-4e1b-482f-bc1f-fa1d697dfdc6",
   "metadata": {
    "tags": []
   },
   "outputs": [
    {
     "data": {
      "text/html": [
       "<div>\n",
       "<style scoped>\n",
       "    .dataframe tbody tr th:only-of-type {\n",
       "        vertical-align: middle;\n",
       "    }\n",
       "\n",
       "    .dataframe tbody tr th {\n",
       "        vertical-align: top;\n",
       "    }\n",
       "\n",
       "    .dataframe thead th {\n",
       "        text-align: right;\n",
       "    }\n",
       "</style>\n",
       "<table border=\"1\" class=\"dataframe\">\n",
       "  <thead>\n",
       "    <tr style=\"text-align: right;\">\n",
       "      <th></th>\n",
       "      <th>0</th>\n",
       "      <th>1</th>\n",
       "      <th>2</th>\n",
       "      <th>3</th>\n",
       "      <th>4</th>\n",
       "      <th>5</th>\n",
       "      <th>6</th>\n",
       "      <th>7</th>\n",
       "      <th>8</th>\n",
       "      <th>9</th>\n",
       "      <th>...</th>\n",
       "      <th>991</th>\n",
       "      <th>992</th>\n",
       "      <th>993</th>\n",
       "      <th>994</th>\n",
       "      <th>995</th>\n",
       "      <th>996</th>\n",
       "      <th>997</th>\n",
       "      <th>998</th>\n",
       "      <th>999</th>\n",
       "      <th>1000</th>\n",
       "    </tr>\n",
       "  </thead>\n",
       "  <tbody>\n",
       "    <tr>\n",
       "      <th>layout:xla:random:05ae41e26dd3c4c06390371a0423233c</th>\n",
       "      <td>0.579959</td>\n",
       "      <td>-2.394375</td>\n",
       "      <td>2.209916</td>\n",
       "      <td>0.475465</td>\n",
       "      <td>0.500399</td>\n",
       "      <td>5.760832</td>\n",
       "      <td>2.214942</td>\n",
       "      <td>1.031801</td>\n",
       "      <td>2.105929</td>\n",
       "      <td>3.879890</td>\n",
       "      <td>...</td>\n",
       "      <td>2.567520</td>\n",
       "      <td>4.132986</td>\n",
       "      <td>0.618542</td>\n",
       "      <td>-2.127352</td>\n",
       "      <td>3.770224</td>\n",
       "      <td>0.082172</td>\n",
       "      <td>-0.258980</td>\n",
       "      <td>0.542639</td>\n",
       "      <td>-0.918771</td>\n",
       "      <td>NaN</td>\n",
       "    </tr>\n",
       "    <tr>\n",
       "      <th>layout:xla:random:3e7156ac468dfb75cf5c9615e1e5887d</th>\n",
       "      <td>7.272022</td>\n",
       "      <td>8.086339</td>\n",
       "      <td>12.295191</td>\n",
       "      <td>7.197568</td>\n",
       "      <td>3.759927</td>\n",
       "      <td>7.303336</td>\n",
       "      <td>4.685538</td>\n",
       "      <td>2.678210</td>\n",
       "      <td>12.366991</td>\n",
       "      <td>9.542505</td>\n",
       "      <td>...</td>\n",
       "      <td>9.170848</td>\n",
       "      <td>0.559136</td>\n",
       "      <td>1.197337</td>\n",
       "      <td>6.719958</td>\n",
       "      <td>10.670403</td>\n",
       "      <td>7.336254</td>\n",
       "      <td>7.060631</td>\n",
       "      <td>12.434566</td>\n",
       "      <td>7.188555</td>\n",
       "      <td>NaN</td>\n",
       "    </tr>\n",
       "    <tr>\n",
       "      <th>layout:xla:random:5335ed13823b0a518ee3c79ba4425f34</th>\n",
       "      <td>0.430184</td>\n",
       "      <td>3.919663</td>\n",
       "      <td>0.807982</td>\n",
       "      <td>0.304442</td>\n",
       "      <td>2.275550</td>\n",
       "      <td>0.983988</td>\n",
       "      <td>0.744600</td>\n",
       "      <td>-0.512435</td>\n",
       "      <td>0.534493</td>\n",
       "      <td>0.093813</td>\n",
       "      <td>...</td>\n",
       "      <td>2.272689</td>\n",
       "      <td>2.451099</td>\n",
       "      <td>2.436864</td>\n",
       "      <td>6.575501</td>\n",
       "      <td>0.643798</td>\n",
       "      <td>4.161696</td>\n",
       "      <td>3.809095</td>\n",
       "      <td>2.082263</td>\n",
       "      <td>0.320000</td>\n",
       "      <td>NaN</td>\n",
       "    </tr>\n",
       "    <tr>\n",
       "      <th>layout:xla:random:937ee0eb0d5d6151b7b8252933b5c1c9</th>\n",
       "      <td>1.226279</td>\n",
       "      <td>0.357738</td>\n",
       "      <td>0.951177</td>\n",
       "      <td>-1.317830</td>\n",
       "      <td>0.538735</td>\n",
       "      <td>-0.206786</td>\n",
       "      <td>0.779487</td>\n",
       "      <td>1.262260</td>\n",
       "      <td>0.832496</td>\n",
       "      <td>-0.911656</td>\n",
       "      <td>...</td>\n",
       "      <td>-0.755725</td>\n",
       "      <td>1.071315</td>\n",
       "      <td>0.851887</td>\n",
       "      <td>0.630970</td>\n",
       "      <td>-0.458029</td>\n",
       "      <td>0.596050</td>\n",
       "      <td>1.286965</td>\n",
       "      <td>-1.175001</td>\n",
       "      <td>0.048394</td>\n",
       "      <td>0.204237</td>\n",
       "    </tr>\n",
       "    <tr>\n",
       "      <th>layout:xla:random:cd708819d3f5103afd6460b15e74eaf3</th>\n",
       "      <td>1.849220</td>\n",
       "      <td>0.643044</td>\n",
       "      <td>4.258627</td>\n",
       "      <td>1.591488</td>\n",
       "      <td>1.493146</td>\n",
       "      <td>3.792833</td>\n",
       "      <td>1.416752</td>\n",
       "      <td>3.457124</td>\n",
       "      <td>4.983268</td>\n",
       "      <td>0.799316</td>\n",
       "      <td>...</td>\n",
       "      <td>4.452685</td>\n",
       "      <td>1.100503</td>\n",
       "      <td>1.340506</td>\n",
       "      <td>1.003695</td>\n",
       "      <td>1.567591</td>\n",
       "      <td>2.070792</td>\n",
       "      <td>1.923970</td>\n",
       "      <td>4.254141</td>\n",
       "      <td>-0.449185</td>\n",
       "      <td>NaN</td>\n",
       "    </tr>\n",
       "  </tbody>\n",
       "</table>\n",
       "<p>5 rows × 1001 columns</p>\n",
       "</div>"
      ],
      "text/plain": [
       "                                                           0         1  \\\n",
       "layout:xla:random:05ae41e26dd3c4c06390371a0423233c  0.579959 -2.394375   \n",
       "layout:xla:random:3e7156ac468dfb75cf5c9615e1e5887d  7.272022  8.086339   \n",
       "layout:xla:random:5335ed13823b0a518ee3c79ba4425f34  0.430184  3.919663   \n",
       "layout:xla:random:937ee0eb0d5d6151b7b8252933b5c1c9  1.226279  0.357738   \n",
       "layout:xla:random:cd708819d3f5103afd6460b15e74eaf3  1.849220  0.643044   \n",
       "\n",
       "                                                            2         3  \\\n",
       "layout:xla:random:05ae41e26dd3c4c06390371a0423233c   2.209916  0.475465   \n",
       "layout:xla:random:3e7156ac468dfb75cf5c9615e1e5887d  12.295191  7.197568   \n",
       "layout:xla:random:5335ed13823b0a518ee3c79ba4425f34   0.807982  0.304442   \n",
       "layout:xla:random:937ee0eb0d5d6151b7b8252933b5c1c9   0.951177 -1.317830   \n",
       "layout:xla:random:cd708819d3f5103afd6460b15e74eaf3   4.258627  1.591488   \n",
       "\n",
       "                                                           4         5  \\\n",
       "layout:xla:random:05ae41e26dd3c4c06390371a0423233c  0.500399  5.760832   \n",
       "layout:xla:random:3e7156ac468dfb75cf5c9615e1e5887d  3.759927  7.303336   \n",
       "layout:xla:random:5335ed13823b0a518ee3c79ba4425f34  2.275550  0.983988   \n",
       "layout:xla:random:937ee0eb0d5d6151b7b8252933b5c1c9  0.538735 -0.206786   \n",
       "layout:xla:random:cd708819d3f5103afd6460b15e74eaf3  1.493146  3.792833   \n",
       "\n",
       "                                                           6         7  \\\n",
       "layout:xla:random:05ae41e26dd3c4c06390371a0423233c  2.214942  1.031801   \n",
       "layout:xla:random:3e7156ac468dfb75cf5c9615e1e5887d  4.685538  2.678210   \n",
       "layout:xla:random:5335ed13823b0a518ee3c79ba4425f34  0.744600 -0.512435   \n",
       "layout:xla:random:937ee0eb0d5d6151b7b8252933b5c1c9  0.779487  1.262260   \n",
       "layout:xla:random:cd708819d3f5103afd6460b15e74eaf3  1.416752  3.457124   \n",
       "\n",
       "                                                            8         9  ...  \\\n",
       "layout:xla:random:05ae41e26dd3c4c06390371a0423233c   2.105929  3.879890  ...   \n",
       "layout:xla:random:3e7156ac468dfb75cf5c9615e1e5887d  12.366991  9.542505  ...   \n",
       "layout:xla:random:5335ed13823b0a518ee3c79ba4425f34   0.534493  0.093813  ...   \n",
       "layout:xla:random:937ee0eb0d5d6151b7b8252933b5c1c9   0.832496 -0.911656  ...   \n",
       "layout:xla:random:cd708819d3f5103afd6460b15e74eaf3   4.983268  0.799316  ...   \n",
       "\n",
       "                                                         991       992  \\\n",
       "layout:xla:random:05ae41e26dd3c4c06390371a0423233c  2.567520  4.132986   \n",
       "layout:xla:random:3e7156ac468dfb75cf5c9615e1e5887d  9.170848  0.559136   \n",
       "layout:xla:random:5335ed13823b0a518ee3c79ba4425f34  2.272689  2.451099   \n",
       "layout:xla:random:937ee0eb0d5d6151b7b8252933b5c1c9 -0.755725  1.071315   \n",
       "layout:xla:random:cd708819d3f5103afd6460b15e74eaf3  4.452685  1.100503   \n",
       "\n",
       "                                                         993       994  \\\n",
       "layout:xla:random:05ae41e26dd3c4c06390371a0423233c  0.618542 -2.127352   \n",
       "layout:xla:random:3e7156ac468dfb75cf5c9615e1e5887d  1.197337  6.719958   \n",
       "layout:xla:random:5335ed13823b0a518ee3c79ba4425f34  2.436864  6.575501   \n",
       "layout:xla:random:937ee0eb0d5d6151b7b8252933b5c1c9  0.851887  0.630970   \n",
       "layout:xla:random:cd708819d3f5103afd6460b15e74eaf3  1.340506  1.003695   \n",
       "\n",
       "                                                          995       996  \\\n",
       "layout:xla:random:05ae41e26dd3c4c06390371a0423233c   3.770224  0.082172   \n",
       "layout:xla:random:3e7156ac468dfb75cf5c9615e1e5887d  10.670403  7.336254   \n",
       "layout:xla:random:5335ed13823b0a518ee3c79ba4425f34   0.643798  4.161696   \n",
       "layout:xla:random:937ee0eb0d5d6151b7b8252933b5c1c9  -0.458029  0.596050   \n",
       "layout:xla:random:cd708819d3f5103afd6460b15e74eaf3   1.567591  2.070792   \n",
       "\n",
       "                                                         997        998  \\\n",
       "layout:xla:random:05ae41e26dd3c4c06390371a0423233c -0.258980   0.542639   \n",
       "layout:xla:random:3e7156ac468dfb75cf5c9615e1e5887d  7.060631  12.434566   \n",
       "layout:xla:random:5335ed13823b0a518ee3c79ba4425f34  3.809095   2.082263   \n",
       "layout:xla:random:937ee0eb0d5d6151b7b8252933b5c1c9  1.286965  -1.175001   \n",
       "layout:xla:random:cd708819d3f5103afd6460b15e74eaf3  1.923970   4.254141   \n",
       "\n",
       "                                                         999      1000  \n",
       "layout:xla:random:05ae41e26dd3c4c06390371a0423233c -0.918771       NaN  \n",
       "layout:xla:random:3e7156ac468dfb75cf5c9615e1e5887d  7.188555       NaN  \n",
       "layout:xla:random:5335ed13823b0a518ee3c79ba4425f34  0.320000       NaN  \n",
       "layout:xla:random:937ee0eb0d5d6151b7b8252933b5c1c9  0.048394  0.204237  \n",
       "layout:xla:random:cd708819d3f5103afd6460b15e74eaf3 -0.449185       NaN  \n",
       "\n",
       "[5 rows x 1001 columns]"
      ]
     },
     "execution_count": 92,
     "metadata": {},
     "output_type": "execute_result"
    }
   ],
   "source": [
    "import pandas as pd\n",
    "import os\n",
    "\n",
    "os.chdir(\"/home/matt/projects/kaggle-fast-or-slow\")\n",
    "\n",
    "SUBMISSION_ID=\"1k1gvxm9_xla.csv\"\n",
    "\n",
    "data = pd.read_csv(f\"submissions/{SUBMISSION_ID}\", index_col=0)\n",
    "data.head()"
   ]
  },
  {
   "cell_type": "code",
   "execution_count": 93,
   "id": "9eb9abf6-1189-4774-bc1e-2e1bf1a60782",
   "metadata": {
    "tags": []
   },
   "outputs": [],
   "source": [
    "import numpy as np\n",
    "\n",
    "def process_file(series):   \n",
    "    \n",
    "    values = series.values\n",
    "    values = values[~np.isnan(values)]\n",
    "    best_order = np.array(values).argsort()\n",
    "    best_order = best_order[best_order != -1]\n",
    "    stringified = \";\".join([str(x) for x in best_order.tolist()])\n",
    "    return stringified"
   ]
  },
  {
   "cell_type": "code",
   "execution_count": 94,
   "id": "39995da1-c6d0-4b79-8798-2fded3cea438",
   "metadata": {
    "tags": []
   },
   "outputs": [],
   "source": [
    "processed = data.apply(process_file, axis=1)"
   ]
  },
  {
   "cell_type": "code",
   "execution_count": 95,
   "id": "699dc972-7a4a-4a9c-a369-843358616014",
   "metadata": {
    "tags": []
   },
   "outputs": [],
   "source": [
    "processed_df = pd.DataFrame(\n",
    "    {\"ID\": processed.index, \"TopConfigs\": processed.values}\n",
    ")"
   ]
  },
  {
   "cell_type": "code",
   "execution_count": 96,
   "id": "efa8eb28-dc78-4475-bfaf-a8c5606b7c2d",
   "metadata": {
    "tags": []
   },
   "outputs": [],
   "source": [
    "BASE_FILE = \"submissions/bqkc1jsp_xla_6aeax7xs_nlp.csv\"\n",
    "\n",
    "base_data = pd.read_csv(BASE_FILE)"
   ]
  },
  {
   "cell_type": "code",
   "execution_count": 97,
   "id": "affd31b8-24c3-4316-8334-628b716477aa",
   "metadata": {
    "tags": []
   },
   "outputs": [],
   "source": [
    "joined = base_data.merge(processed_df, on=\"ID\", how=\"left\")\n",
    "\n",
    "joined[\"TopConfigs\"] = joined[\"TopConfigs_y\"].fillna(joined[\"TopConfigs_x\"])\n",
    "joined = joined.drop(columns=[\"TopConfigs_x\", \"TopConfigs_y\"])"
   ]
  },
  {
   "cell_type": "code",
   "execution_count": 98,
   "id": "4e88a606-751d-48cf-8b92-296bf7c3626f",
   "metadata": {
    "tags": []
   },
   "outputs": [],
   "source": [
    "output = \"submissions/1k1gvxm9_xla_6aeax7xs_nlp.csv\"\n",
    "joined.to_csv(output, index=False)"
   ]
  },
  {
   "cell_type": "markdown",
   "id": "5cd72114-b088-475f-a10f-5fe506a7bb25",
   "metadata": {
    "tags": []
   },
   "source": [
    "## Rank Averaging"
   ]
  },
  {
   "cell_type": "code",
   "execution_count": 168,
   "id": "01a03f8c-77b5-4d5f-87cd-7e1dc56da6e0",
   "metadata": {
    "tags": []
   },
   "outputs": [],
   "source": [
    "LAYOUT_FILES = [\"submissions/1k1gvxm9_xla_6aeax7xs_nlp.csv\",\"submissions/bqkc1jsp_xla.csv\"]\n",
    "\n",
    "submissions = [pd.read_csv(s) for s in LAYOUT_FILES]"
   ]
  },
  {
   "cell_type": "code",
   "execution_count": 224,
   "id": "a167dbe6-72d0-40d2-9c7a-f5e5ff4e2dd0",
   "metadata": {
    "tags": []
   },
   "outputs": [],
   "source": [
    "layouts = [s[s[\"ID\"].str.contains(\"layout\")] for s in submissions]"
   ]
  },
  {
   "cell_type": "code",
   "execution_count": 225,
   "id": "eb057848-182d-4c8c-ba86-08257510c360",
   "metadata": {
    "tags": []
   },
   "outputs": [],
   "source": [
    "merged = layouts[0].merge(layouts[1], on=\"ID\")\n",
    "\n",
    "def add_ranks(ser):\n",
    "    ls = [np.array([int(x) for x in s.split(';')]) for s in ser.values]\n",
    "    ranks = [np.zeros(len(l), dtype=np.int_) for l in ls]\n",
    "    \n",
    "    for rank, l in zip(ranks, ls):\n",
    "        rank[l] = np.arange(len(l), dtype=np.int_)\n",
    "        \n",
    "    rank_t = np.sum(np.vstack(ranks), axis=0)\n",
    "    sorted_rank_t = rank_t.argsort().tolist()\n",
    "    \n",
    "    sorted_rank_t = \";\".join([str(x) for x in sorted_rank_t])\n",
    "    \n",
    "    return sorted_rank_t\n",
    "    \n",
    "\n",
    "merged[\"TopConfigs\"] = merged[[\"TopConfigs_x\", \"TopConfigs_y\"]].apply(add_ranks, axis=1)\n",
    "merged = merged.drop([\"TopConfigs_x\",\"TopConfigs_y\"], axis=1)"
   ]
  },
  {
   "cell_type": "code",
   "execution_count": 199,
   "id": "035fb7b8-5162-40b7-b8a4-c4811b208d81",
   "metadata": {
    "tags": []
   },
   "outputs": [],
   "source": [
    "joined = base_data.merge(merged, on=\"ID\", how=\"left\")\n",
    "\n",
    "joined[\"TopConfigs\"] = joined[\"TopConfigs_y\"].fillna(joined[\"TopConfigs_x\"])\n",
    "joined = joined.drop(columns=[\"TopConfigs_x\", \"TopConfigs_y\"])"
   ]
  },
  {
   "cell_type": "code",
   "execution_count": 201,
   "id": "55aba56a-9a7f-44c6-b859-3a9b2897bf35",
   "metadata": {
    "tags": []
   },
   "outputs": [],
   "source": [
    "output = \"submissions/rank_avg_test.csv\"\n",
    "joined.to_csv(output, index=False)"
   ]
  },
  {
   "cell_type": "code",
   "execution_count": 163,
   "id": "7dfe1b8f-0d6a-463d-9c34-25ce11c0238c",
   "metadata": {
    "tags": []
   },
   "outputs": [
    {
     "data": {
      "text/plain": [
       "array([291,  15, 375, 295, 575, 862, 462,  85, 365, 346, 598, 796, 966,\n",
       "        58, 900, 732, 101, 970, 428, 465, 216, 938, 830, 815, 278, 957,\n",
       "       124, 376, 212,  18, 169, 738, 258, 775, 259, 933, 870, 453, 143,\n",
       "       779, 595, 670, 111, 349, 965, 479, 407, 280, 359, 666,  64, 731,\n",
       "       876,  97, 249, 874, 580, 841,  84, 770,  67, 267, 794, 594, 336,\n",
       "       232, 641, 498,  41, 673, 367, 326, 912, 813, 274, 934, 817, 894,\n",
       "       477, 106, 988, 358, 989, 532, 726, 294, 244, 450, 819, 606, 603,\n",
       "       197, 712, 844, 400, 332, 787, 240, 585,  28,  78, 307, 380, 161,\n",
       "       239, 254, 131, 886, 994,   0, 463, 230, 338, 774, 286, 177, 325,\n",
       "       703,  30, 596, 412, 189,  34, 697, 341,  96, 857, 919, 314, 709,\n",
       "       483,   7, 337, 871, 898, 323, 402, 481,   1, 464, 458, 472,  17,\n",
       "       961,  22, 850, 747, 513, 798, 944, 144, 567,  71, 884, 551, 521,\n",
       "       908, 305, 393, 997,  73, 146, 807, 482, 204, 321, 203, 170, 273,\n",
       "       927, 459, 578, 571, 864, 838, 746, 132, 440,  44,  46, 544, 771,\n",
       "       268, 832, 941, 167, 181, 892, 649, 743, 119, 576, 840, 932, 421,\n",
       "       852, 480, 872, 793, 139, 985, 901, 926, 903, 636, 142,  43, 531,\n",
       "        79, 656,  98, 387, 186, 334, 157, 734, 652, 754,  56, 324, 398,\n",
       "       514, 426,  33, 588, 133, 171, 547, 730, 395, 786, 345, 215, 506,\n",
       "       963, 557, 975,  21, 461, 394, 417, 246,   6, 162, 777, 801, 540,\n",
       "       214, 485, 492, 797, 436, 768, 200, 990, 385, 702, 330, 693, 685,\n",
       "       374, 948,   9, 861, 198, 740, 772, 835, 432, 845, 494, 196, 297,\n",
       "       766, 308, 219, 619, 680, 719, 115, 608, 404, 530, 152, 420, 455,\n",
       "       663, 183,  87, 399,  37, 654, 889, 983, 748, 737, 449, 628, 733,\n",
       "       645, 437, 762, 911, 613, 923, 617, 303, 790, 780, 275, 470, 735,\n",
       "       834, 677, 614, 604, 261, 978, 952, 304, 333, 312, 123, 226, 554,\n",
       "       711, 384, 357, 160, 688, 209, 634, 536, 592, 653, 311, 947, 784,\n",
       "       290, 998, 182, 723, 456, 945, 460, 925, 630, 342, 981, 669, 154,\n",
       "       803, 135, 689, 678, 187, 667, 195, 302, 769, 448, 257, 284, 473,\n",
       "       607, 949, 805,  53,  63, 718, 987, 783,  47, 968, 553, 682, 364,\n",
       "       913, 443,  12, 260, 976, 646,  19, 954, 858, 563,  20, 471, 277,\n",
       "       537, 695, 759, 742, 122, 191, 599, 262, 751, 504, 512, 694, 496,\n",
       "       468, 626, 836, 340, 185, 128, 218, 550, 565, 642, 542, 523, 986,\n",
       "       701, 962, 713, 672, 802,  61, 597, 881, 433, 792, 469, 379, 552,\n",
       "       110, 922, 371, 674, 225, 264, 125, 897,  14, 882, 102, 271, 842,\n",
       "       202, 728, 706, 778, 441,  39, 173, 234, 360, 629, 313, 996,  94,\n",
       "       891, 873, 659, 868, 631, 192, 438, 691, 633, 251, 625, 444, 403,\n",
       "       279, 623, 577, 946, 890, 955, 644, 500, 582,  32, 761, 915, 612,\n",
       "       572, 484, 909, 263,  16, 539, 502, 467,  89, 632, 956, 849, 121,\n",
       "       546, 668,  82, 615, 163, 149, 487,   8,  99, 569, 105, 526, 795,\n",
       "       924, 372, 887, 413, 100,  23, 570, 942, 180, 545, 589, 959, 248,\n",
       "        38, 361, 851, 543, 166, 466, 120, 538, 353, 643, 269, 148, 409,\n",
       "       651, 236, 717, 679, 377, 431, 406, 370, 495, 316, 826, 896,  92,\n",
       "       879, 727, 906, 931, 534, 126, 650,  77,  70, 158, 767, 188, 655,\n",
       "       373, 885, 228, 993, 104, 223, 622, 621, 758, 178, 593, 999,  11,\n",
       "       451, 698, 389, 318, 716, 610, 681, 665, 936, 827, 392, 611, 930,\n",
       "        50, 150, 107,  81,  83, 447, 853, 878, 109, 581,  13, 478, 419,\n",
       "       814, 414,  66,  88, 973, 155, 707,  75, 820,  27, 929, 366, 847,\n",
       "       505, 831, 423, 369, 515, 510, 103,  40, 958, 647, 657, 356, 739,\n",
       "       348, 729, 785, 220, 151, 671, 616, 315, 211, 289, 910, 217, 620,\n",
       "        90, 310, 296, 824, 684, 880, 329, 206,  35, 136, 776, 322, 328,\n",
       "       753,  62, 117, 823, 573, 524, 435, 602, 559, 301, 416,  45, 299,\n",
       "       696, 808, 213, 224, 319,  29, 967, 475,  86, 309, 791, 339, 648,\n",
       "       134, 624, 382, 548, 153, 745,   4, 118, 549, 474, 583, 736, 662,\n",
       "       818, 856, 298, 486, 445, 519, 893, 114, 276, 724, 490, 788, 355,\n",
       "       147, 789, 995, 825, 327, 676, 138, 508, 686, 972, 846, 982, 245,\n",
       "       637, 205, 721, 848, 579, 193, 331, 529, 243, 953, 800, 692, 108,\n",
       "       921, 722, 640, 221, 764, 916,   2, 368, 564,  65, 859, 618, 266,\n",
       "       725, 715, 687, 560, 843, 700, 627, 408, 335, 411, 222,  49, 250,\n",
       "       282, 812, 457,  10, 272, 396, 320, 639, 527, 601, 383, 343,  76,\n",
       "       281, 773, 350, 199, 635, 806, 381, 875, 454, 558, 984, 352, 683,\n",
       "         3, 690, 883, 229,  57, 940, 704, 561, 609, 828, 865, 242, 638,\n",
       "        51, 951, 476, 247,  74, 605, 452, 714, 516, 535, 293, 935, 964,\n",
       "       288, 977, 755, 574, 401, 270, 765, 920, 283, 782, 410, 344, 750,\n",
       "       137, 190, 675, 168, 541, 425, 140, 810, 430, 434, 418, 164, 159,\n",
       "       497, 708, 237, 194, 918, 664, 429,  55, 522, 488, 917, 517, 860,\n",
       "       378, 710,  60,  72, 869, 895, 292, 804, 520, 386, 877,  93, 799,\n",
       "       499, 422, 837,  80, 839, 165, 491, 287, 821, 252, 600, 555, 174,\n",
       "         5, 528, 899, 501, 809, 493, 533, 937, 979, 902, 833, 518, 867,\n",
       "       822, 145, 943, 863, 907, 590, 744, 179,  54, 391, 388, 141, 405,\n",
       "        25, 511, 156, 210, 811, 591, 489,  42, 172, 720, 525, 354, 427,\n",
       "        52, 256, 584, 904,  31, 265, 586, 207, 950, 241, 130, 439, 415,\n",
       "       285, 113, 980, 888, 866,  95, 300, 969, 960, 363, 587, 757, 705,\n",
       "       397,  59, 235,  48, 741, 424, 854, 347, 442, 129, 756, 317, 568,\n",
       "       562, 446, 939, 503, 991, 184, 253, 752, 112,  69, 127, 231, 816,\n",
       "       905, 556, 176, 116, 507, 238, 227, 699, 255, 829, 928, 658, 566,\n",
       "       208,  68, 855, 175, 992, 661,  24,  36, 509, 362, 201, 760, 974,\n",
       "       351, 749, 660, 914,  91, 763, 781,  26, 390, 306, 233, 971])"
      ]
     },
     "execution_count": 163,
     "metadata": {},
     "output_type": "execute_result"
    }
   ],
   "source": [
    "l1"
   ]
  }
 ],
 "metadata": {
  "kernelspec": {
   "display_name": "Python 3 (ipykernel)",
   "language": "python",
   "name": "python3"
  },
  "language_info": {
   "codemirror_mode": {
    "name": "ipython",
    "version": 3
   },
   "file_extension": ".py",
   "mimetype": "text/x-python",
   "name": "python",
   "nbconvert_exporter": "python",
   "pygments_lexer": "ipython3",
   "version": "3.11.5"
  }
 },
 "nbformat": 4,
 "nbformat_minor": 5
}
